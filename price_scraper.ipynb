{
 "cells": [
  {
   "cell_type": "code",
   "execution_count": 1,
   "id": "21a341d3",
   "metadata": {},
   "outputs": [
    {
     "ename": "Exception",
     "evalue": "REQUEST_REJECTED",
     "output_type": "error",
     "traceback": [
      "\u001b[1;31m---------------------------------------------------------------------------\u001b[0m",
      "\u001b[1;31mException\u001b[0m                                 Traceback (most recent call last)",
      "Input \u001b[1;32mIn [1]\u001b[0m, in \u001b[0;36m<cell line: 6>\u001b[1;34m()\u001b[0m\n\u001b[0;32m      4\u001b[0m \u001b[38;5;66;03m# interface with keepa using API key (this is not a real key)\u001b[39;00m\n\u001b[0;32m      5\u001b[0m mykey \u001b[38;5;241m=\u001b[39m \u001b[38;5;124m'\u001b[39m\u001b[38;5;124mXXXXXXXXXXXXXXXXXXXXXXXXXX\u001b[39m\u001b[38;5;124m'\u001b[39m\n\u001b[1;32m----> 6\u001b[0m api \u001b[38;5;241m=\u001b[39m \u001b[38;5;28;01mawait\u001b[39;00m keepa\u001b[38;5;241m.\u001b[39mAsyncKeepa\u001b[38;5;241m.\u001b[39mcreate(mykey)\n\u001b[0;32m      8\u001b[0m \u001b[38;5;66;03m# product ASIN\u001b[39;00m\n\u001b[0;32m      9\u001b[0m request \u001b[38;5;241m=\u001b[39m \u001b[38;5;124m'\u001b[39m\u001b[38;5;124mB08MYCN952\u001b[39m\u001b[38;5;124m'\u001b[39m\n",
      "File \u001b[1;32mc:\\Users\\thos_\\anaconda3\\lib\\site-packages\\keepa\\interface.py:2341\u001b[0m, in \u001b[0;36mAsyncKeepa.create\u001b[1;34m(cls, accesskey, timeout)\u001b[0m\n\u001b[0;32m   2339\u001b[0m \u001b[38;5;66;03m# Store user's available tokens\u001b[39;00m\n\u001b[0;32m   2340\u001b[0m log\u001b[38;5;241m.\u001b[39minfo(\u001b[38;5;124m'\u001b[39m\u001b[38;5;124mConnecting to keepa using key ending in \u001b[39m\u001b[38;5;132;01m%s\u001b[39;00m\u001b[38;5;124m'\u001b[39m, accesskey[\u001b[38;5;241m-\u001b[39m\u001b[38;5;241m6\u001b[39m:])\n\u001b[1;32m-> 2341\u001b[0m \u001b[38;5;28;01mawait\u001b[39;00m \u001b[38;5;28mself\u001b[39m\u001b[38;5;241m.\u001b[39mupdate_status()\n\u001b[0;32m   2342\u001b[0m log\u001b[38;5;241m.\u001b[39minfo(\u001b[38;5;124m'\u001b[39m\u001b[38;5;132;01m%d\u001b[39;00m\u001b[38;5;124m tokens remain\u001b[39m\u001b[38;5;124m'\u001b[39m, \u001b[38;5;28mself\u001b[39m\u001b[38;5;241m.\u001b[39mtokens_left)\n\u001b[0;32m   2343\u001b[0m \u001b[38;5;28;01mreturn\u001b[39;00m \u001b[38;5;28mself\u001b[39m\n",
      "File \u001b[1;32mc:\\Users\\thos_\\anaconda3\\lib\\site-packages\\keepa\\interface.py:2366\u001b[0m, in \u001b[0;36mAsyncKeepa.update_status\u001b[1;34m(self)\u001b[0m\n\u001b[0;32m   2364\u001b[0m \u001b[38;5;28;01masync\u001b[39;00m \u001b[38;5;28;01mdef\u001b[39;00m \u001b[38;5;21mupdate_status\u001b[39m(\u001b[38;5;28mself\u001b[39m):\n\u001b[0;32m   2365\u001b[0m \u001b[38;5;250m    \u001b[39m\u001b[38;5;124;03m\"\"\" Updates available tokens \"\"\"\u001b[39;00m\n\u001b[1;32m-> 2366\u001b[0m     \u001b[38;5;28mself\u001b[39m\u001b[38;5;241m.\u001b[39mstatus \u001b[38;5;241m=\u001b[39m \u001b[38;5;28;01mawait\u001b[39;00m \u001b[38;5;28mself\u001b[39m\u001b[38;5;241m.\u001b[39m_request(\u001b[38;5;124m'\u001b[39m\u001b[38;5;124mtoken\u001b[39m\u001b[38;5;124m'\u001b[39m, {\u001b[38;5;124m'\u001b[39m\u001b[38;5;124mkey\u001b[39m\u001b[38;5;124m'\u001b[39m: \u001b[38;5;28mself\u001b[39m\u001b[38;5;241m.\u001b[39maccesskey}, wait\u001b[38;5;241m=\u001b[39m\u001b[38;5;28;01mFalse\u001b[39;00m)\n",
      "File \u001b[1;32mc:\\Users\\thos_\\anaconda3\\lib\\site-packages\\keepa\\interface.py:2653\u001b[0m, in \u001b[0;36mAsyncKeepa._request\u001b[1;34m(self, request_type, payload, wait)\u001b[0m\n\u001b[0;32m   2651\u001b[0m         \u001b[38;5;28;01mcontinue\u001b[39;00m\n\u001b[0;32m   2652\u001b[0m     \u001b[38;5;28;01melse\u001b[39;00m:\n\u001b[1;32m-> 2653\u001b[0m         \u001b[38;5;28;01mraise\u001b[39;00m \u001b[38;5;167;01mException\u001b[39;00m(SCODES[status_code])\n\u001b[0;32m   2654\u001b[0m \u001b[38;5;28;01melse\u001b[39;00m:\n\u001b[0;32m   2655\u001b[0m     \u001b[38;5;28;01mraise\u001b[39;00m \u001b[38;5;167;01mException\u001b[39;00m(\u001b[38;5;124m'\u001b[39m\u001b[38;5;124mREQUEST_FAILED\u001b[39m\u001b[38;5;124m'\u001b[39m)\n",
      "\u001b[1;31mException\u001b[0m: REQUEST_REJECTED"
     ]
    }
   ],
   "source": [
    "import keepa\n",
    "import csv\n",
    "\n",
    "# interface with keepa using API key (this is not a real key)\n",
    "mykey = 'XXXXXXXXXXXXXXXXXXXXXXXXXX'\n",
    "api = await keepa.AsyncKeepa.create(mykey)\n",
    "\n",
    "# product ASIN\n",
    "request = 'B08MYCN952'\n",
    "products = await api.query(request)\n",
    "product = products[0]\n",
    "\n",
    "# access new price history and associated time data\n",
    "newprice = product['data']['NEW']\n",
    "newpricetime = product['data']['NEW_time']\n",
    "print('%20s %s' % ('Date', 'Price'))\n",
    "for i in range(len(newpricetime)):\n",
    "    print('%20s $%.2f' % (newpricetime[i], newprice[i]))\n",
    "\n",
    "# conversion to csv\n",
    "with open('histories.csv', 'w') as f1:\n",
    "    writer = csv.writer(f1, delimiter = '\\t', lineterminator = '\\n')\n",
    "    row = \"Date Price\"\n",
    "    writer.writerow(row)\n",
    "    \n",
    "    for i in range(len(newpricetime)):\n",
    "        if str(newprice[i]) != 'nan':\n",
    "            isolate_date = str(newpricetime[i]).split()\n",
    "            isolate_date = isolate_date[0]\n",
    "            row = [isolate_date, newprice[i]]\n",
    "            writer.writerow(row)"
   ]
  },
  {
   "cell_type": "code",
   "execution_count": null,
   "id": "2d742557",
   "metadata": {},
   "outputs": [],
   "source": []
  }
 ],
 "metadata": {
  "kernelspec": {
   "display_name": "Python 3 (ipykernel)",
   "language": "python",
   "name": "python3"
  },
  "language_info": {
   "codemirror_mode": {
    "name": "ipython",
    "version": 3
   },
   "file_extension": ".py",
   "mimetype": "text/x-python",
   "name": "python",
   "nbconvert_exporter": "python",
   "pygments_lexer": "ipython3",
   "version": "3.9.12"
  }
 },
 "nbformat": 4,
 "nbformat_minor": 5
}
