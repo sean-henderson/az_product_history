{
 "cells": [
  {
   "cell_type": "code",
   "execution_count": 1,
   "id": "21a341d3",
   "metadata": {},
   "outputs": [
   ],
   "source": [
    "import keepa\n",
    "import csv\n",
    "\n",
    "# interface with keepa using API key (this is not a real key)\n",
    "mykey = 'XXXXXXXXXXXXXXXXXXXXXXXXXX'\n",
    "api = await keepa.AsyncKeepa.create(mykey)\n",
    "\n",
    "# product ASIN\n",
    "request = 'B08MYCN952'\n",
    "products = await api.query(request)\n",
    "product = products[0]\n",
    "\n",
    "# access new price history and associated time data\n",
    "newprice = product['data']['NEW']\n",
    "newpricetime = product['data']['NEW_time']\n",
    "print('%20s %s' % ('Date', 'Price'))\n",
    "for i in range(len(newpricetime)):\n",
    "    print('%20s $%.2f' % (newpricetime[i], newprice[i]))\n",
    "\n",
    "# conversion to csv\n",
    "with open('histories.csv', 'w') as f1:\n",
    "    writer = csv.writer(f1, delimiter = '\\t', lineterminator = '\\n')\n",
    "    row = \"Date Price\"\n",
    "    writer.writerow(row)\n",
    "    \n",
    "    for i in range(len(newpricetime)):\n",
    "        if str(newprice[i]) != 'nan':\n",
    "            isolate_date = str(newpricetime[i]).split()\n",
    "            isolate_date = isolate_date[0]\n",
    "            row = [isolate_date, newprice[i]]\n",
    "            writer.writerow(row)"
   ]
  },
  {
   "cell_type": "code",
   "execution_count": null,
   "id": "2d742557",
   "metadata": {},
   "outputs": [],
   "source": []
  }
 ],
 "metadata": {
  "kernelspec": {
   "display_name": "Python 3 (ipykernel)",
   "language": "python",
   "name": "python3"
  },
  "language_info": {
   "codemirror_mode": {
    "name": "ipython",
    "version": 3
   },
   "file_extension": ".py",
   "mimetype": "text/x-python",
   "name": "python",
   "nbconvert_exporter": "python",
   "pygments_lexer": "ipython3",
   "version": "3.9.12"
  }
 },
 "nbformat": 4,
 "nbformat_minor": 5
}
